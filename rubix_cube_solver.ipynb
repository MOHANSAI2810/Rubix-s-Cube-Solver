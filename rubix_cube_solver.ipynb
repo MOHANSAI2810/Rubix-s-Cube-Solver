{
  "cells": [
    {
      "cell_type": "code",
      "execution_count": null,
      "metadata": {
        "colab": {
          "base_uri": "https://localhost:8080/"
        },
        "id": "Axoo9EyBZYL1",
        "outputId": "35f21d37-06c2-42d4-80a9-bf392789900f"
      },
      "outputs": [
        {
          "name": "stdout",
          "output_type": "stream",
          "text": [
            "Requirement already satisfied: opencv-python-headless in /usr/local/lib/python3.11/dist-packages (4.12.0.88)\n",
            "Requirement already satisfied: kociemba in /usr/local/lib/python3.11/dist-packages (1.2.1)\n",
            "Requirement already satisfied: numpy<2.3.0,>=2 in /usr/local/lib/python3.11/dist-packages (from opencv-python-headless) (2.0.2)\n",
            "Requirement already satisfied: cffi>=1.0.0 in /usr/local/lib/python3.11/dist-packages (from kociemba) (1.17.1)\n",
            "Requirement already satisfied: future in /usr/local/lib/python3.11/dist-packages (from kociemba) (1.0.0)\n",
            "Requirement already satisfied: pycparser in /usr/local/lib/python3.11/dist-packages (from cffi>=1.0.0->kociemba) (2.22)\n"
          ]
        }
      ],
      "source": [
        "!pip install opencv-python-headless kociemba"
      ]
    },
    {
      "cell_type": "code",
      "execution_count": null,
      "metadata": {
        "colab": {
          "base_uri": "https://localhost:8080/"
        },
        "id": "720IiKXaZpXY",
        "outputId": "6c1811e1-caba-4a86-e3a1-daa4f0396398"
      },
      "outputs": [
        {
          "name": "stdout",
          "output_type": "stream",
          "text": [
            "➡️ Enter the 9 stickers for each face (row by row, left to right)\n",
            "➡️ Order: White (U), Red (R), Green (F), Yellow (D), Orange (L), Blue (B)\n",
            "➡️ Allowed colors: W (White), R (Red), G (Green), Y (Yellow), O (Orange), B (Blue)\n",
            "Enter 9 colors for White face: OBYBWRORB\n",
            "Enter 9 colors for Red face: RWORROGBW\n",
            "Enter 9 colors for Green face: BYWWGGOWY\n",
            "Enter 9 colors for Yellow face: GBRGYRBGG\n",
            "Enter 9 colors for Orange face: WOWYOORWY\n",
            "Enter 9 colors for Blue face: BYGGBORYY\n",
            "\n",
            "🧠 Detected center-to-face mapping:\n",
            "  W → U\n",
            "  R → R\n",
            "  G → F\n",
            "  Y → D\n",
            "  O → L\n",
            "  B → B\n",
            "\n",
            "✅ Color counts are valid.\n",
            "🧩 Final facelet string: LBDBURLRBRULRRLFBUBDUUFFLUDFBRFDRBFFULUDLLRUDBDFFBLRDD\n",
            "\n",
            "✅ Cube solution:\n",
            "D R U2 B L' F' L2 F2 U2 D2 L U F2 U' L2 D R2 B2 D2 R2 U'\n"
          ]
        }
      ],
      "source": [
        "import kociemba\n",
        "from collections import Counter\n",
        "\n",
        "face_order = ['White', 'Red', 'Green', 'Yellow', 'Orange', 'Blue']\n",
        "face_inputs = []\n",
        "ALLOWED_COLORS = {'W', 'R', 'G', 'Y', 'O', 'B'}\n",
        "\n",
        "print(\"➡️ Enter the 9 stickers for each face (row by row, left to right)\")\n",
        "print(\"➡️ Order: White (U), Red (R), Green (F), Yellow (D), Orange (L), Blue (B)\")\n",
        "print(\"➡️ Allowed colors: W (White), R (Red), G (Green), Y (Yellow), O (Orange), B (Blue)\")\n",
        "\n",
        "for face in face_order:\n",
        "    while True:\n",
        "        entry = input(f\"Enter 9 colors for {face} face: \").strip().upper()\n",
        "        if len(entry) != 9:\n",
        "            print(\"❌ Must be exactly 9 characters.\")\n",
        "            continue\n",
        "        if any(c not in ALLOWED_COLORS for c in entry):\n",
        "            print(\"❌ Invalid colors found. Allowed:\", ALLOWED_COLORS)\n",
        "            continue\n",
        "        face_inputs.append(entry)\n",
        "        break\n",
        "centers = [face[4] for face in face_inputs]\n",
        "detected_faces = ['U', 'R', 'F', 'D', 'L', 'B']\n",
        "color_to_face = dict(zip(centers, detected_faces))\n",
        "\n",
        "print(\"\\n🧠 Detected center-to-face mapping:\")\n",
        "for color, face in color_to_face.items():\n",
        "    print(f\"  {color} → {face}\")\n",
        "\n",
        "color_string = ''.join(face_inputs)\n",
        "\n",
        "counts = Counter(color_string)\n",
        "if any(counts[c] != 9 for c in ALLOWED_COLORS):\n",
        "    print(\"\\n❌ Error: Each of the 6 colors must appear exactly 9 times.\")\n",
        "    print(\"Color counts:\", counts)\n",
        "else:\n",
        "    print(\"\\n✅ Color counts are valid.\")\n",
        "\n",
        "    try:\n",
        "        facelet_string = ''.join(color_to_face[c] for c in color_string)\n",
        "        print(\"🧩 Final facelet string:\", facelet_string)\n",
        "\n",
        "        solution = kociemba.solve(facelet_string)\n",
        "        print(\"\\n✅ Cube solution:\")\n",
        "        print(solution)\n",
        "    except Exception as e:\n",
        "        print(\"\\n❌ Error solving cube:\", e)\n"
      ]
    },
    {
      "cell_type": "code",
      "execution_count": null,
      "metadata": {
        "id": "KB09-GtXbb-K"
      },
      "outputs": [],
      "source": []
    }
  ],
  "metadata": {
    "colab": {
      "provenance": []
    },
    "kernelspec": {
      "display_name": "Python 3",
      "name": "python3"
    },
    "language_info": {
      "name": "python"
    }
  },
  "nbformat": 4,
  "nbformat_minor": 0
}
